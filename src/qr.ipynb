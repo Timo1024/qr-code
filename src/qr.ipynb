{
 "cells": [
  {
   "cell_type": "markdown",
   "metadata": {},
   "source": [
    "# Load libraries"
   ]
  },
  {
   "cell_type": "code",
   "execution_count": 81,
   "metadata": {},
   "outputs": [],
   "source": [
    "import qrcode\n",
    "import cv2\n",
    "import json\n",
    "from cryptography.fernet import Fernet\n",
    "import base64"
   ]
  },
  {
   "cell_type": "markdown",
   "metadata": {},
   "source": [
    "# Get the encryption key"
   ]
  },
  {
   "cell_type": "code",
   "execution_count": 87,
   "metadata": {},
   "outputs": [],
   "source": [
    "with open('./app/qrreader/resources/constants/keys.json', 'r') as file:\n",
    "    # Load the data\n",
    "    data = json.load(file)\n",
    "\n",
    "# Now you can access the value of a key like this:\n",
    "key = data['encrypt_key'].encode()"
   ]
  },
  {
   "cell_type": "markdown",
   "metadata": {},
   "source": [
    "# Create the QR-code"
   ]
  },
  {
   "cell_type": "code",
   "execution_count": 108,
   "metadata": {},
   "outputs": [
    {
     "name": "stdout",
     "output_type": "stream",
     "text": [
      "Data: Technik\n",
      "Browser\n",
      "Google\n",
      "Mit dem Link unten kommst du zum Google browser\n",
      "https://www.google.com/\n",
      "length of Encrypted data: 204\n"
     ]
    }
   ],
   "source": [
    "# data should have different parts:\n",
    "# 1. topic\n",
    "# 2. title\n",
    "# 3. subtitle\n",
    "# 4. description\n",
    "# 5. additional information (e.g. link to a website)\n",
    "# all parts should be separated by a newline character\n",
    "\n",
    "# e.g.\n",
    "data = \"Technik\\nBrowser\\nGoogle\\nMit dem Link unten kommst du zum Google browser\\nhttps://www.google.com/\"\n",
    "\n",
    "print(f\"Data: {data}\")\n",
    "\n",
    "# enccode the data\n",
    "cipher_suite = Fernet(key)\n",
    "\n",
    "# Encrypt the string\n",
    "encrypted_data = cipher_suite.encrypt(data.encode())\n",
    "\n",
    "encrypted_str = encrypted_data.decode()\n",
    "\n",
    "print(f\"length of Encrypted data: {len(encrypted_str)}\")\n",
    "\n",
    "qr = qrcode.QRCode(\n",
    "    version=1,\n",
    "    error_correction=qrcode.constants.ERROR_CORRECT_H,\n",
    "    box_size=10,\n",
    "    border=4,\n",
    ")\n",
    "qr.add_data(encrypted_str)\n",
    "qr.make(fit=True)\n",
    "\n",
    "img = qr.make_image(fill='black', back_color='white')\n",
    "img.save('qr_link_encrypted.png')"
   ]
  },
  {
   "cell_type": "markdown",
   "metadata": {},
   "source": [
    "# Read a qr QR-code"
   ]
  },
  {
   "cell_type": "code",
   "execution_count": 104,
   "metadata": {},
   "outputs": [
    {
     "name": "stdout",
     "output_type": "stream",
     "text": [
      "Decoded text is:  Technik\n",
      "Browser\n",
      "Google\n",
      "Mit dem Link unten kommst du zum Google browser\n",
      "https://www.google.com/\n"
     ]
    }
   ],
   "source": [
    "d = cv2.QRCodeDetector()\n",
    "val, points, _ = d.detectAndDecode(cv2.imread(\"qr_link_encrypted.png\"))\n",
    "\n",
    "cipher_suite = Fernet(key)\n",
    "\n",
    "decoded = cipher_suite.decrypt(val).decode()\n",
    "\n",
    "print(\"Decoded text is: \", decoded)"
   ]
  },
  {
   "cell_type": "markdown",
   "metadata": {},
   "source": [
    "# Encrypt and compress string"
   ]
  },
  {
   "cell_type": "code",
   "execution_count": 9,
   "metadata": {},
   "outputs": [],
   "source": [
    "from cryptography.fernet import Fernet\n",
    "import random\n",
    "import string"
   ]
  },
  {
   "cell_type": "code",
   "execution_count": 10,
   "metadata": {},
   "outputs": [],
   "source": [
    "def generate_random_string(length):\n",
    "    # Define the characters that will be used\n",
    "    characters = string.ascii_letters + string.digits + \"/,.:;\"\n",
    "\n",
    "    # Generate the random string\n",
    "    random_string = ''.join(random.choice(characters) for _ in range(length))\n",
    "\n",
    "    return random_string"
   ]
  },
  {
   "cell_type": "code",
   "execution_count": 85,
   "metadata": {},
   "outputs": [
    {
     "name": "stdout",
     "output_type": "stream",
     "text": [
      "500\n",
      "760\n"
     ]
    }
   ],
   "source": [
    "# Generate a key for encryption\n",
    "key = Fernet.generate_key()\n",
    "cipher_suite = Fernet(key)\n",
    "\n",
    "# The string to be encrypted and compressed\n",
    "data = generate_random_string(500)\n",
    "print(len(data))\n",
    "\n",
    "# Encrypt the string\n",
    "encrypted_data = cipher_suite.encrypt(data.encode())\n",
    "\n",
    "print(len(encrypted_data))"
   ]
  },
  {
   "cell_type": "code",
   "execution_count": 86,
   "metadata": {},
   "outputs": [
    {
     "data": {
      "text/plain": [
       "'dpkqhKmnxBAx4OgsEHMyd6dSBC2wuVZRnqwX4cq-qro='"
      ]
     },
     "execution_count": 86,
     "metadata": {},
     "output_type": "execute_result"
    }
   ],
   "source": [
    "key.decode()"
   ]
  },
  {
   "cell_type": "code",
   "execution_count": 35,
   "metadata": {},
   "outputs": [
    {
     "data": {
      "text/plain": [
       "'5PFnzHKZyWDdwaY/cLfnPiWQhmsnQeHTbQw2LfDgQO3.Proluq4iQo,7RKGCQI;gA22vPa4Z;O;65476.JwZ0pf:KYU50jPAKxCxAnr2zBj1UHbd/ECARK3g4tnJxVAIwJc/nhZQULI.7:4WlRehJowofP1G85hq3l4CX6WWlZ75QCPCCGeqvFJUUpR6Xk.Nrc4cqEhoGJY/J4w0V.KTCZRvGcog6C0x3R5TMsRaY;p9wKKqZ8YAh0mIox/GF6S9tPNuV/aSoZcGiH9VwZ,:zk:QMt1oteWg;CO4/WDwhku3kF:vCO4dcMxHKyVrePSvAB7jluFmXIFejc.gxM8q4UXfmpuiotnD1VoqiXuqY8AiAz1mKjB5WDngq,iMP;yaFnT:f,HdAlvtuvwPHINGDxwI27KitJf/d,6Q5FPjyL2R7tJGMVGD;b5RIVUK7P/f4Tu:Uf3vYgSrD:qz1kadaDYksqoSuE.LQ73rcap4;Tgcxipo4,drLdpInQU4XCqp6Zi9KCnDJU4kLpFefyBAKF.hPgGPVjFiuYzo;tFfAl4z:4LEdmHak/C2L;vGk/5Gt3DzX.5eNEsxed2Ae51K,7Y8TkPPfm71J7Hto0jgJLlPJBQUZtPs9NW9M/kK1MAWvDK4Nmbdh1w2aUU.E5Ahp6B7BMnsEmWlJnw.laBkGB3ny1hP8D6jyAmn:0yqGM7uAbqk90Bke6R;x6OK4GLmx241ARyL:17htiNJw1hlY0uBp;SiZajGpk6JcLD,EeALFT2YuG66syxPVZTXCcUAItQFQrDNHJDA49Kamxw0FVRNErw7EYvYR.q0R4jtN/lEyq;NDsJ9Hrre2l9BHwWBMcZWDIXq28DwbT5d5Ie5xsT4LiimG,oAHMHGD,9JaWIdm;ZYvMvAaTne9:c.2c89W6;166wgnOvRs0jhLRPgb,Ni8FJEE.3;pQ3tEpYpS7dhG45.S8aj3h56VnZS/ASCqWPXxFGa,ay0e4cdxAWvwIMI.a/t54XxYXqTCt8q1EZMaEsdXRHyCH2J,HmHn;xUdW;zwql2cHD8I46O7U6jO,PBO0j,SqIc,JU138OyfZqYAbKRnpN3flaR3VvC9JNB:NdqswSoI9ajl7oySLcn5gKIiPDop2wuu8mD4KMOTHuqOzepKkBELtGCfW.cxMciC5F;OY3MmwFvICRg6sdSzctcMZx3j2OV0uDXZcUsu7CVCXXgB0Z0HbfbXKpNW;/JHB8gNj32fqZSE,fIj1PYZeiaUVp:3,kDgw;zGDg:afPWdF;NWKTfv1CESMJ:fyRE27WhnRG1Y7vRT;lN.QHJK,OkB4mhESzC3dCHOlwxWsXkEuamvNAc,Qq4EI:NxfF7dCgumxrNJITiwibrDh3mD/fVRqgrfs4s507XrIbE5P4hQzTQu8AX57MWiA.v68X/y7oo3WLMp1mhEWc9jf/hzvW0XKPGw:dQ;MahvZ;pH4T4hJE5srMIgQPNuoIGWgj8nkRyP6WxmIl8yEGDBv/1JRW3pP1:wg9PB3yuUUSftevjSA5;EbrdUA8lZPFptd,EsIM:gh5jK6j1jUN6gz9yqYrKL.HX,7;FW;h0CY/lp;EK/fO2QdDawBbrpAj.bKWU3mi;ilZ,fSQw:Qk2j8qbvPqqislIaKJXKW3lpcOaEcRn1eaU8rugRs1/rZRaq;WE6g:gGdTLyyzydbdptIz/MoKu5o2bqS68TWgz9dPJQgmF2FHHo8H/hEA3lBkRlGnDy2GrMN6ZqVbxi5yT8XXyuUa9kwn,bIubZQJYECr1,POdEUrxc,mIamjvGk8zVumIYQ8L:Xn8f.J3bSCaeDdafIbU69bK,s94AszF5kQnBsRMZw7Q73C1,VD.Xo9Na:e8Z,M/MDMEt1VEL3:lfsxq0fW6WzwwWge2wNh1VJ5.Yfpe0ERBvTP.ks7PX,wbnmnc488h5DwHt3Pij9Gkfzrj3J,G97Db16zvsD772tG8R;kz:M;Wu;bWs6ShM7,;22jxUYqE,9CoYOs:zcq,Z0a2NNYRpqzXrySgbx8C,kA81P9PsYz7rRGoZ0ECB3C9Ur.O5KUM0tOxO08j8tBvMbtgqwfQ3X.G/KTr,JykJvmXL0;w5Wy41JI7RUYo7jClRGpksepFQTSL07DFkw.kGWCvlY4i6aKbipRywlTLlchYYQ2sj,HmswDaY/e.3Ixueuz0s4LYHbFeYtLYWfeLU58WYHoytLXL;H1M6ZeS1aMBL,FxKEvb/wdi3420u:3Lc3h/Wfn.mIH/UewsnPDEaODfdprEG3DeatWKVczmykH6x3aqtGN,HD4Ysa6YsN7TP8intSJz9EGSx.2XJ9o2VMF5B/cLAXMmMk3ISP7M3:8VlydwBKqdbObTVzegS77y1;M0d5uSoXDxFKaYzpZj:SV.rlEmJuwpURmrx;iV:0fcdHmrEq.W7a2XeqcQ;H9CSsof3zZec;wEOouljlyfBcWJn:M,zYKQ/5v9Q3w/MggM4OD;7.C.4IVAQ8OVg5s9.D,8:0;yCS84rn:y0eCfyfjj,ev,zd;lu9,nWF:BAb9Zzdl0Fs/WA7i7Lwtti0IVk1vdFyVP5v:EgBl/EJpu1MzOCe:YQMmohNXy0vCV3qaxKMJCFABJSBy1yEJiqyMwgh3BI15mfjw2Soup4Us3pNc:5Q3BMSTAokTj.UcUTyn2oLBJNEg/y4rbgApZ/tYbTmB9rB4jMm:suTs7,FUX4TIxxcqEJfuHTG2u61K6U25EbGx95kkFXhSvwh4n:lhVFLIwlLrC,aQ43OGk;Gt5p6gAJDI,g0e.qMRKc9ujp3KoSvPYYg8tiPXjTqMilX0YY:7D7WH;3Xh8Tx.UJ5ZgjHo:GiGvi8o083xvGe,aTDAnEIf5Nv4;utyUKgFKj41:Lx;4hWhz.NWHTdDEfSpAVC3SR6R:3ZZpl:yMqg2aznB6dor.MkQbJHaLuDikjgn2a8;,,a1da8qTKBlH.VIZfpP4ap1AL;AnvCY7nZjp'"
      ]
     },
     "execution_count": 35,
     "metadata": {},
     "output_type": "execute_result"
    }
   ],
   "source": [
    "cipher_suite.decrypt(encrypted_data).decode()"
   ]
  },
  {
   "cell_type": "code",
   "execution_count": 62,
   "metadata": {},
   "outputs": [],
   "source": [
    "qr = qrcode.QRCode(\n",
    "    version=1,\n",
    "    error_correction=qrcode.constants.ERROR_CORRECT_H,\n",
    "    box_size=10,\n",
    "    border=4,\n",
    ")\n",
    "qr.add_data(encrypted_data)\n",
    "qr.make(fit=True)\n",
    "\n",
    "img = qr.make_image(fill='black', back_color='white')\n",
    "img.save('qr_encrypt_01.png')"
   ]
  },
  {
   "cell_type": "code",
   "execution_count": 75,
   "metadata": {},
   "outputs": [
    {
     "data": {
      "text/plain": [
       "bytes"
      ]
     },
     "execution_count": 75,
     "metadata": {},
     "output_type": "execute_result"
    }
   ],
   "source": [
    "type(key)"
   ]
  }
 ],
 "metadata": {
  "kernelspec": {
   "display_name": "Python 3",
   "language": "python",
   "name": "python3"
  },
  "language_info": {
   "codemirror_mode": {
    "name": "ipython",
    "version": 3
   },
   "file_extension": ".py",
   "mimetype": "text/x-python",
   "name": "python",
   "nbconvert_exporter": "python",
   "pygments_lexer": "ipython3",
   "version": "3.11.9"
  }
 },
 "nbformat": 4,
 "nbformat_minor": 2
}
